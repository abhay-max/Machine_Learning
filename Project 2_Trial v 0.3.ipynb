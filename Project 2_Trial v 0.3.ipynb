{
 "cells": [
  {
   "cell_type": "code",
   "execution_count": 1,
   "metadata": {},
   "outputs": [],
   "source": [
    "import numpy as np # linear algebra\n",
    "import pandas as pd # data processing, CSV file I/O (e.g. pd.read_csv)\n",
    "%matplotlib inline\n",
    "import matplotlib.pyplot as plt  # Matlab-style plotting\n",
    "import seaborn as sns\n",
    "color = sns.color_palette()\n",
    "sns.set_style('darkgrid')\n",
    "import missingno as mso\n",
    "import datetime as datetime\n",
    "import calendar\n",
    "\n",
    "from scipy import stats\n",
    "from scipy.stats import norm, skew #for some statistics\n",
    "from sklearn.model_selection import KFold , RandomizedSearchCV,train_test_split,GridSearchCV\n",
    "\n",
    "from sklearn.ensemble import AdaBoostClassifier, RandomForestClassifier\n",
    "from sklearn.linear_model import LogisticRegression, Lasso, Ridge\n",
    "from xgboost.sklearn import XGBClassifier\n",
    "\n",
    "from sklearn.metrics import accuracy_score, roc_auc_score , precision_score, recall_score, confusion_matrix, classification_report\n",
    "from sklearn.svm import SVC\n",
    "from sklearn.naive_bayes import MultinomialNB\n",
    "\n",
    "from time import time\n",
    "from operator import itemgetter\n",
    "from scipy.stats import randint as sp_randint\n",
    "\n",
    "#Common Model Helpers\n",
    "from sklearn.preprocessing import OneHotEncoder, LabelEncoder\n",
    "from sklearn import feature_selection\n",
    "\n",
    "from sklearn.metrics import roc_auc_score\n",
    "from sklearn.metrics import fbeta_score"
   ]
  },
  {
   "cell_type": "code",
   "execution_count": 2,
   "metadata": {},
   "outputs": [],
   "source": [
    "file1 = \"/Users/1535/OneDrive - Xceedance Consulting India Private Ltd/Gazal Xceedance/EDV/Python/Python Projects/Project 2/carvan_train.csv\"\n",
    "carvan_train=pd.read_csv(file1)\n",
    "\n",
    "file2 = \"/Users/1535/OneDrive - Xceedance Consulting India Private Ltd/Gazal Xceedance/EDV/Python/Python Projects/Project 2/carvan_test.csv\"\n",
    "carvan_test=pd.read_csv(file2)"
   ]
  },
  {
   "cell_type": "code",
   "execution_count": 3,
   "metadata": {},
   "outputs": [
    {
     "name": "stdout",
     "output_type": "stream",
     "text": [
      "The train data size before dropping Id feature is : (5822, 86) \n",
      "The test data size before dropping Id feature is : (4000, 85) \n"
     ]
    }
   ],
   "source": [
    "#check the numbers of samples and features\n",
    "print(\"The train data size before dropping Id feature is : {} \".format(carvan_train.shape))\n",
    "print(\"The test data size before dropping Id feature is : {} \".format(carvan_test.shape))"
   ]
  },
  {
   "cell_type": "code",
   "execution_count": 4,
   "metadata": {},
   "outputs": [
    {
     "name": "stdout",
     "output_type": "stream",
     "text": [
      "Class 0: 5474\n",
      "Class 1: 348\n",
      "Proportion: 15.73 : 1\n"
     ]
    },
    {
     "data": {
      "image/png": "[encoded data removed]",
      "text/plain": [
       "<Figure size 432x288 with 1 Axes>"
      ]
     },
     "metadata": {
      "needs_background": "light"
     },
     "output_type": "display_data"
    }
   ],
   "source": [
    "target_count = carvan_train['V86'].value_counts()\n",
    "\n",
    "print('Class 0:', target_count[0])\n",
    "print('Class 1:', target_count[1])\n",
    "print('Proportion:', round(target_count[0] / target_count[1], 2), ': 1')\n",
    "\n",
    "target_count.plot(kind='bar', title='Count (target)');"
   ]
  },
  {
   "cell_type": "code",
   "execution_count": 5,
   "metadata": {},
   "outputs": [],
   "source": [
    "carvan_train['data'] = 'Train'\n",
    "carvan_test['data'] = 'Test'\n",
    "carvan_test['V86'] = np.nan"
   ]
  },
  {
   "cell_type": "code",
   "execution_count": 6,
   "metadata": {},
   "outputs": [],
   "source": [
    "carvan_test=carvan_test[carvan_train.columns] # the columns in the two data frames should be in the same order to enable concatenation\n",
    "#validation_set=validation_set[carvan_train_over.columns]\n",
    "carvan=pd.concat([carvan_train,carvan_test],axis=0)\n",
    "carvan = carvan.reset_index()"
   ]
  },
  {
   "cell_type": "code",
   "execution_count": 7,
   "metadata": {},
   "outputs": [
    {
     "data": {
      "text/plain": [
       "(9822, 87)"
      ]
     },
     "execution_count": 7,
     "metadata": {},
     "output_type": "execute_result"
    }
   ],
   "source": [
    "del carvan['index']\n",
    "carvan.shape"
   ]
  },
  {
   "cell_type": "code",
   "execution_count": 8,
   "metadata": {},
   "outputs": [
    {
     "data": {
      "text/html": [
       "<div>\n",
       "<style scoped>\n",
       "    .dataframe tbody tr th:only-of-type {\n",
       "        vertical-align: middle;\n",
       "    }\n",
       "\n",
       "    .dataframe tbody tr th {\n",
       "        vertical-align: top;\n",
       "    }\n",
       "\n",
       "    .dataframe thead th {\n",
       "        text-align: right;\n",
       "    }\n",
       "</style>\n",
       "<table border=\"1\" class=\"dataframe\">\n",
       "  <thead>\n",
       "    <tr style=\"text-align: right;\">\n",
       "      <th></th>\n",
       "      <th>V1</th>\n",
       "      <th>V2</th>\n",
       "      <th>V3</th>\n",
       "      <th>V4</th>\n",
       "      <th>V5</th>\n",
       "      <th>V6</th>\n",
       "      <th>V7</th>\n",
       "      <th>V8</th>\n",
       "      <th>V9</th>\n",
       "      <th>V10</th>\n",
       "      <th>...</th>\n",
       "      <th>V78</th>\n",
       "      <th>V79</th>\n",
       "      <th>V80</th>\n",
       "      <th>V81</th>\n",
       "      <th>V82</th>\n",
       "      <th>V83</th>\n",
       "      <th>V84</th>\n",
       "      <th>V85</th>\n",
       "      <th>V86</th>\n",
       "      <th>data</th>\n",
       "    </tr>\n",
       "  </thead>\n",
       "  <tbody>\n",
       "    <tr>\n",
       "      <th>0</th>\n",
       "      <td>33</td>\n",
       "      <td>1</td>\n",
       "      <td>3</td>\n",
       "      <td>2</td>\n",
       "      <td>8</td>\n",
       "      <td>0</td>\n",
       "      <td>5</td>\n",
       "      <td>1</td>\n",
       "      <td>3</td>\n",
       "      <td>7</td>\n",
       "      <td>...</td>\n",
       "      <td>0</td>\n",
       "      <td>0</td>\n",
       "      <td>1</td>\n",
       "      <td>0</td>\n",
       "      <td>0</td>\n",
       "      <td>0</td>\n",
       "      <td>0</td>\n",
       "      <td>0</td>\n",
       "      <td>0.0</td>\n",
       "      <td>Train</td>\n",
       "    </tr>\n",
       "    <tr>\n",
       "      <th>1</th>\n",
       "      <td>37</td>\n",
       "      <td>1</td>\n",
       "      <td>2</td>\n",
       "      <td>2</td>\n",
       "      <td>8</td>\n",
       "      <td>1</td>\n",
       "      <td>4</td>\n",
       "      <td>1</td>\n",
       "      <td>4</td>\n",
       "      <td>6</td>\n",
       "      <td>...</td>\n",
       "      <td>0</td>\n",
       "      <td>0</td>\n",
       "      <td>1</td>\n",
       "      <td>0</td>\n",
       "      <td>0</td>\n",
       "      <td>0</td>\n",
       "      <td>0</td>\n",
       "      <td>0</td>\n",
       "      <td>0.0</td>\n",
       "      <td>Train</td>\n",
       "    </tr>\n",
       "    <tr>\n",
       "      <th>2</th>\n",
       "      <td>37</td>\n",
       "      <td>1</td>\n",
       "      <td>2</td>\n",
       "      <td>2</td>\n",
       "      <td>8</td>\n",
       "      <td>0</td>\n",
       "      <td>4</td>\n",
       "      <td>2</td>\n",
       "      <td>4</td>\n",
       "      <td>3</td>\n",
       "      <td>...</td>\n",
       "      <td>0</td>\n",
       "      <td>0</td>\n",
       "      <td>1</td>\n",
       "      <td>0</td>\n",
       "      <td>0</td>\n",
       "      <td>0</td>\n",
       "      <td>0</td>\n",
       "      <td>0</td>\n",
       "      <td>0.0</td>\n",
       "      <td>Train</td>\n",
       "    </tr>\n",
       "    <tr>\n",
       "      <th>3</th>\n",
       "      <td>9</td>\n",
       "      <td>1</td>\n",
       "      <td>3</td>\n",
       "      <td>3</td>\n",
       "      <td>3</td>\n",
       "      <td>2</td>\n",
       "      <td>3</td>\n",
       "      <td>2</td>\n",
       "      <td>4</td>\n",
       "      <td>5</td>\n",
       "      <td>...</td>\n",
       "      <td>0</td>\n",
       "      <td>0</td>\n",
       "      <td>1</td>\n",
       "      <td>0</td>\n",
       "      <td>0</td>\n",
       "      <td>0</td>\n",
       "      <td>0</td>\n",
       "      <td>0</td>\n",
       "      <td>0.0</td>\n",
       "      <td>Train</td>\n",
       "    </tr>\n",
       "    <tr>\n",
       "      <th>4</th>\n",
       "      <td>40</td>\n",
       "      <td>1</td>\n",
       "      <td>4</td>\n",
       "      <td>2</td>\n",
       "      <td>10</td>\n",
       "      <td>1</td>\n",
       "      <td>4</td>\n",
       "      <td>1</td>\n",
       "      <td>4</td>\n",
       "      <td>7</td>\n",
       "      <td>...</td>\n",
       "      <td>0</td>\n",
       "      <td>0</td>\n",
       "      <td>1</td>\n",
       "      <td>0</td>\n",
       "      <td>0</td>\n",
       "      <td>0</td>\n",
       "      <td>0</td>\n",
       "      <td>0</td>\n",
       "      <td>0.0</td>\n",
       "      <td>Train</td>\n",
       "    </tr>\n",
       "  </tbody>\n",
       "</table>\n",
       "<p>5 rows × 87 columns</p>\n",
       "</div>"
      ],
      "text/plain": [
       "   V1  V2  V3  V4  V5  V6  V7  V8  V9  V10  ...  V78  V79  V80  V81  V82  V83  \\\n",
       "0  33   1   3   2   8   0   5   1   3    7  ...    0    0    1    0    0    0   \n",
       "1  37   1   2   2   8   1   4   1   4    6  ...    0    0    1    0    0    0   \n",
       "2  37   1   2   2   8   0   4   2   4    3  ...    0    0    1    0    0    0   \n",
       "3   9   1   3   3   3   2   3   2   4    5  ...    0    0    1    0    0    0   \n",
       "4  40   1   4   2  10   1   4   1   4    7  ...    0    0    1    0    0    0   \n",
       "\n",
       "   V84  V85  V86   data  \n",
       "0    0    0  0.0  Train  \n",
       "1    0    0  0.0  Train  \n",
       "2    0    0  0.0  Train  \n",
       "3    0    0  0.0  Train  \n",
       "4    0    0  0.0  Train  \n",
       "\n",
       "[5 rows x 87 columns]"
      ]
     },
     "execution_count": 8,
     "metadata": {},
     "output_type": "execute_result"
    }
   ],
   "source": [
    "carvan.head()"
   ]
  },
  {
   "cell_type": "code",
   "execution_count": 9,
   "metadata": {},
   "outputs": [
    {
     "data": {
      "text/plain": [
       "Train    5822\n",
       "Test     4000\n",
       "Name: data, dtype: int64"
      ]
     },
     "execution_count": 9,
     "metadata": {},
     "output_type": "execute_result"
    }
   ],
   "source": [
    "carvan.data.value_counts()"
   ]
  },
  {
   "cell_type": "markdown",
   "metadata": {},
   "source": [
    "Thought the data looks numeric but the features are categorical in nature. As per the data disctionary this has been interpreted. Now coverting into Dummies"
   ]
  },
  {
   "cell_type": "markdown",
   "metadata": {},
   "source": [
    "V1 can be dropped , V4num, V5 need to be dropped, V6num\n",
    "\n",
    "New to create - V1\tV5\tV6\tV7\tV8\tV9\tV10\tV11\tV12\tV13\tV14\tV15\tV16\tV17\tV18\tV19\tV20\tV21\tV22\tV23\tV24\tV25\tV26\tV27\tV28\tV29\tV30\tV31\tV32\tV33\tV34\tV35\tV36\t\n",
    "V37\tV38\tV39\tV40\tV41\tV42\tV43 - almost 0 impact"
   ]
  },
  {
   "cell_type": "code",
   "execution_count": 9,
   "metadata": {},
   "outputs": [],
   "source": [
    "cat_cols = [\"V1\",\"V5\",\"V6\",\"V7\",\"V8\",\"V9\",\"V10\",\"V11\",\"V12\",\"V13\",\"V14\",\"V15\",\"V16\",\"V17\",\"V18\",\"V19\",\n",
    "            \"V20\",\"V21\",\"V22\",\"V23\",\"V24\",\"V25\",\"V26\",\"V27\",\"V28\",\"V29\",\"V30\",\"V31\",\"V32\",\"V33\",\"V34\",\"V35\",\n",
    "            \"V36\"]"
   ]
  },
  {
   "cell_type": "code",
   "execution_count": 10,
   "metadata": {},
   "outputs": [],
   "source": [
    "for c in cat_cols:\n",
    "    carvan[c]=carvan[c].astype(str)"
   ]
  },
  {
   "cell_type": "code",
   "execution_count": 11,
   "metadata": {},
   "outputs": [],
   "source": [
    "#not in use\n",
    "#carvan[\"V1\"] = carvan[\"V1\"].astype(str)\n",
    "\n",
    "#carvan[\"V5\"] = carvan[\"V5\"].astype(str)"
   ]
  },
  {
   "cell_type": "code",
   "execution_count": 12,
   "metadata": {},
   "outputs": [
    {
     "name": "stdout",
     "output_type": "stream",
     "text": [
      "object\n",
      "object\n",
      "object\n",
      "object\n",
      "object\n",
      "object\n",
      "object\n",
      "object\n",
      "object\n",
      "object\n",
      "object\n",
      "object\n",
      "object\n",
      "object\n",
      "object\n",
      "object\n",
      "object\n",
      "object\n",
      "object\n",
      "object\n",
      "object\n",
      "object\n",
      "object\n",
      "object\n",
      "object\n",
      "object\n",
      "object\n",
      "object\n",
      "object\n",
      "object\n",
      "object\n",
      "object\n",
      "object\n"
     ]
    }
   ],
   "source": [
    "for c in cat_cols:\n",
    "    print(carvan[c].dtypes)"
   ]
  },
  {
   "cell_type": "code",
   "execution_count": 13,
   "metadata": {},
   "outputs": [
    {
     "name": "stdout",
     "output_type": "stream",
     "text": [
      "V1\n",
      "V5\n",
      "V6\n",
      "V7\n",
      "V8\n",
      "V9\n",
      "V10\n",
      "V11\n",
      "V12\n",
      "V13\n",
      "V14\n",
      "V15\n",
      "V16\n",
      "V17\n",
      "V18\n",
      "V19\n",
      "V20\n",
      "V21\n",
      "V22\n",
      "V23\n",
      "V24\n",
      "V25\n",
      "V26\n",
      "V27\n",
      "V28\n",
      "V29\n",
      "V30\n",
      "V31\n",
      "V32\n",
      "V33\n",
      "V34\n",
      "V35\n",
      "V36\n"
     ]
    }
   ],
   "source": [
    "for col in cat_cols:\n",
    "    freqs=carvan[col].value_counts()\n",
    "    selected_cats=freqs.index[freqs>100][:-1]\n",
    "    \n",
    "    print(col)\n",
    "    for cat in selected_cats:\n",
    "        name=col+'_'+cat\n",
    "        \n",
    "        carvan[name]=(carvan[col]==cat).astype(int)\n",
    "    del carvan[col]"
   ]
  },
  {
   "cell_type": "code",
   "execution_count": 14,
   "metadata": {},
   "outputs": [
    {
     "name": "stdout",
     "output_type": "stream",
     "text": [
      "data : 2\n"
     ]
    }
   ],
   "source": [
    "for col in carvan.select_dtypes(['object']).columns:\n",
    "    print(col,':',carvan[col].nunique())"
   ]
  },
  {
   "cell_type": "code",
   "execution_count": 15,
   "metadata": {},
   "outputs": [
    {
     "data": {
      "text/plain": [
       "(9822, 297)"
      ]
     },
     "execution_count": 15,
     "metadata": {},
     "output_type": "execute_result"
    }
   ],
   "source": [
    "carvan.shape"
   ]
  },
  {
   "cell_type": "code",
   "execution_count": 16,
   "metadata": {},
   "outputs": [],
   "source": [
    "carvan_train = carvan[carvan['data'] == 'Train']\n",
    "carvan_test = carvan[carvan['data']=='Test']\n",
    "del carvan_train['data']\n",
    "del carvan_test['data']\n",
    "del carvan_test['V86']"
   ]
  },
  {
   "cell_type": "code",
   "execution_count": 17,
   "metadata": {},
   "outputs": [],
   "source": [
    "X = carvan_train.drop(['V86'],1)\n",
    "Y = carvan_train['V86']"
   ]
  },
  {
   "cell_type": "code",
   "execution_count": 18,
   "metadata": {},
   "outputs": [],
   "source": [
    "x_train, x_test, y_train, y_test = train_test_split( X, Y, test_size=0.20,random_state = 42,stratify= Y)"
   ]
  },
  {
   "cell_type": "code",
   "execution_count": null,
   "metadata": {},
   "outputs": [],
   "source": []
  },
  {
   "cell_type": "markdown",
   "metadata": {},
   "source": [
    "Trying with Random Forest to check the inital feasibilyt and Feature importance"
   ]
  },
  {
   "cell_type": "code",
   "execution_count": 26,
   "metadata": {},
   "outputs": [
    {
     "name": "stderr",
     "output_type": "stream",
     "text": [
      "C:\\ProgramData\\Anaconda3\\lib\\site-packages\\sklearn\\ensemble\\forest.py:246: FutureWarning: The default value of n_estimators will change from 10 in version 0.20 to 100 in 0.22.\n",
      "  \"10 in version 0.20 to 100 in 0.22.\", FutureWarning)\n"
     ]
    },
    {
     "name": "stdout",
     "output_type": "stream",
     "text": [
      "Accuracy Score is : 0.9296137339055794\n",
      "Recall Score is : 0.05714285714285714\n",
      "Precision Score is : 0.2\n",
      "Auc Score is :  0.5212654924983692\n",
      "Fbeta 2 Score is : 0.5419970631424376\n",
      "[[1079   16]\n",
      " [  66    4]]\n"
     ]
    }
   ],
   "source": [
    "rf_model  = RandomForestClassifier()\n",
    "rf_model.fit(x_train, y_train)\n",
    "\n",
    "predicted = rf_model.predict(x_test)\n",
    "\n",
    "print('Accuracy Score is :' , accuracy_score(y_test,predicted))\n",
    "print('Recall Score is :',recall_score(y_test,predicted))\n",
    "print('Precision Score is :',precision_score(y_test,predicted))\n",
    "print('Auc Score is : ', roc_auc_score(y_test,predicted))\n",
    "print('Fbeta 2 Score is :', fbeta_score(predicted,y_test, average='macro', beta=2))\n",
    "print(confusion_matrix(y_test, predicted, labels=None, sample_weight=None))"
   ]
  },
  {
   "cell_type": "code",
   "execution_count": 27,
   "metadata": {},
   "outputs": [
    {
     "name": "stdout",
     "output_type": "stream",
     "text": [
      "Feature ranking:\n",
      "1. feature V2 (0.054775)\n",
      "2. feature V3 (0.048951)\n",
      "3. feature V4 (0.044541)\n",
      "4. feature V44 (0.028800)\n",
      "5. feature V45 (0.027271)\n",
      "6. feature V46 (0.021898)\n",
      "7. feature V47 (0.012791)\n",
      "8. feature V48 (0.012277)\n",
      "9. feature V49 (0.011056)\n",
      "10. feature V50 (0.010816)\n",
      "11. feature V51 (0.010159)\n",
      "12. feature V52 (0.007732)\n",
      "13. feature V53 (0.007272)\n",
      "14. feature V54 (0.006884)\n",
      "15. feature V55 (0.006651)\n",
      "16. feature V56 (0.006248)\n",
      "17. feature V57 (0.005883)\n",
      "18. feature V58 (0.005874)\n",
      "19. feature V59 (0.005838)\n",
      "20. feature V60 (0.005750)\n",
      "21. feature V61 (0.005704)\n",
      "22. feature V62 (0.005405)\n",
      "23. feature V63 (0.005387)\n",
      "24. feature V64 (0.005203)\n",
      "25. feature V65 (0.005168)\n",
      "26. feature V66 (0.005146)\n",
      "27. feature V67 (0.005047)\n",
      "28. feature V68 (0.005012)\n",
      "29. feature V69 (0.004931)\n",
      "30. feature V70 (0.004842)\n",
      "31. feature V71 (0.004823)\n",
      "32. feature V72 (0.004758)\n",
      "33. feature V73 (0.004753)\n",
      "34. feature V74 (0.004732)\n",
      "35. feature V75 (0.004719)\n",
      "36. feature V76 (0.004669)\n",
      "37. feature V77 (0.004521)\n",
      "38. feature V78 (0.004508)\n",
      "39. feature V79 (0.004495)\n",
      "40. feature V80 (0.004468)\n",
      "41. feature V81 (0.004447)\n",
      "42. feature V82 (0.004429)\n",
      "43. feature V83 (0.004372)\n",
      "44. feature V84 (0.004368)\n",
      "45. feature V85 (0.004329)\n",
      "46. feature V1_33 (0.004309)\n",
      "47. feature V1_38 (0.004250)\n",
      "48. feature V1_8 (0.004247)\n",
      "49. feature V1_39 (0.004209)\n",
      "50. feature V1_9 (0.004207)\n",
      "51. feature V1_3 (0.004178)\n",
      "52. feature V1_23 (0.004147)\n",
      "53. feature V1_36 (0.004140)\n",
      "54. feature V1_35 (0.004139)\n",
      "55. feature V1_41 (0.004138)\n",
      "56. feature V1_34 (0.004075)\n",
      "57. feature V1_24 (0.004006)\n",
      "58. feature V1_31 (0.004004)\n",
      "59. feature V1_13 (0.003998)\n",
      "60. feature V1_11 (0.003987)\n",
      "61. feature V1_10 (0.003983)\n",
      "62. feature V1_32 (0.003958)\n",
      "63. feature V1_37 (0.003929)\n",
      "64. feature V1_1 (0.003923)\n",
      "65. feature V1_6 (0.003874)\n",
      "66. feature V1_12 (0.003864)\n",
      "67. feature V1_30 (0.003858)\n",
      "68. feature V1_22 (0.003841)\n",
      "69. feature V1_2 (0.003747)\n",
      "70. feature V1_29 (0.003747)\n",
      "71. feature V1_40 (0.003722)\n",
      "72. feature V5_8 (0.003721)\n",
      "73. feature V5_3 (0.003685)\n",
      "74. feature V5_9 (0.003676)\n",
      "75. feature V5_1 (0.003602)\n",
      "76. feature V5_5 (0.003597)\n",
      "77. feature V5_7 (0.003562)\n",
      "78. feature V5_2 (0.003552)\n",
      "79. feature V5_10 (0.003547)\n",
      "80. feature V6_0 (0.003526)\n",
      "81. feature V6_1 (0.003482)\n",
      "82. feature V6_2 (0.003447)\n",
      "83. feature V6_3 (0.003447)\n",
      "84. feature V7_4 (0.003398)\n",
      "85. feature V7_5 (0.003394)\n",
      "86. feature V7_6 (0.003383)\n",
      "87. feature V7_3 (0.003370)\n",
      "88. feature V7_7 (0.003361)\n",
      "89. feature V7_2 (0.003357)\n",
      "90. feature V7_9 (0.003356)\n",
      "91. feature V7_1 (0.003322)\n",
      "92. feature V7_0 (0.003316)\n",
      "93. feature V8_0 (0.003294)\n",
      "94. feature V8_1 (0.003277)\n",
      "95. feature V8_2 (0.003273)\n",
      "96. feature V8_3 (0.003271)\n",
      "97. feature V9_3 (0.003230)\n",
      "98. feature V9_4 (0.003223)\n",
      "99. feature V9_2 (0.003222)\n",
      "100. feature V9_5 (0.003179)\n",
      "101. feature V9_0 (0.003105)\n",
      "102. feature V9_6 (0.003054)\n",
      "103. feature V9_1 (0.003025)\n",
      "104. feature V10_7 (0.003000)\n",
      "105. feature V10_6 (0.002978)\n",
      "106. feature V10_5 (0.002974)\n",
      "107. feature V10_9 (0.002857)\n",
      "108. feature V10_8 (0.002855)\n",
      "109. feature V10_4 (0.002812)\n",
      "110. feature V10_3 (0.002812)\n",
      "111. feature V10_2 (0.002811)\n",
      "112. feature V10_1 (0.002807)\n",
      "113. feature V11_0 (0.002805)\n",
      "114. feature V11_1 (0.002728)\n",
      "115. feature V11_2 (0.002707)\n",
      "116. feature V11_3 (0.002668)\n",
      "117. feature V12_2 (0.002655)\n",
      "118. feature V12_0 (0.002649)\n",
      "119. feature V12_3 (0.002643)\n",
      "120. feature V12_4 (0.002640)\n",
      "121. feature V12_1 (0.002628)\n",
      "122. feature V12_5 (0.002589)\n",
      "123. feature V13_0 (0.002568)\n",
      "124. feature V13_2 (0.002544)\n",
      "125. feature V13_1 (0.002521)\n",
      "126. feature V13_3 (0.002491)\n",
      "127. feature V13_4 (0.002459)\n",
      "128. feature V13_5 (0.002443)\n",
      "129. feature V13_6 (0.002442)\n",
      "130. feature V14_3 (0.002430)\n",
      "131. feature V14_4 (0.002390)\n",
      "132. feature V14_2 (0.002372)\n",
      "133. feature V14_5 (0.002369)\n",
      "134. feature V14_0 (0.002366)\n",
      "135. feature V14_1 (0.002357)\n",
      "136. feature V14_6 (0.002349)\n",
      "137. feature V15_4 (0.002347)\n",
      "138. feature V15_5 (0.002341)\n",
      "139. feature V15_3 (0.002323)\n",
      "140. feature V15_6 (0.002319)\n",
      "141. feature V15_2 (0.002313)\n",
      "142. feature V15_7 (0.002312)\n",
      "143. feature V15_1 (0.002308)\n",
      "144. feature V15_8 (0.002288)\n",
      "145. feature V15_9 (0.002278)\n",
      "146. feature V16_0 (0.002268)\n",
      "147. feature V16_1 (0.002263)\n",
      "148. feature V16_2 (0.002252)\n",
      "149. feature V16_3 (0.002223)\n",
      "150. feature V16_4 (0.002212)\n",
      "151. feature V16_5 (0.002211)\n",
      "152. feature V17_4 (0.002210)\n",
      "153. feature V17_3 (0.002203)\n",
      "154. feature V17_2 (0.002178)\n",
      "155. feature V17_5 (0.002153)\n",
      "156. feature V17_0 (0.002124)\n",
      "157. feature V17_1 (0.002111)\n",
      "158. feature V17_6 (0.002109)\n",
      "159. feature V18_5 (0.002103)\n",
      "160. feature V18_6 (0.002088)\n",
      "161. feature V18_4 (0.002081)\n",
      "162. feature V18_3 (0.002068)\n",
      "163. feature V18_2 (0.002064)\n",
      "164. feature V18_7 (0.002032)\n",
      "165. feature V18_9 (0.002030)\n",
      "166. feature V18_0 (0.002010)\n",
      "167. feature V18_8 (0.001994)\n",
      "168. feature V19_0 (0.001993)\n",
      "169. feature V19_2 (0.001991)\n",
      "170. feature V19_1 (0.001982)\n",
      "171. feature V19_3 (0.001952)\n",
      "172. feature V19_4 (0.001943)\n",
      "173. feature V19_5 (0.001926)\n",
      "174. feature V19_6 (0.001923)\n",
      "175. feature V20_0 (0.001915)\n",
      "176. feature V20_1 (0.001911)\n",
      "177. feature V21_0 (0.001910)\n",
      "178. feature V21_1 (0.001900)\n",
      "179. feature V21_2 (0.001895)\n",
      "180. feature V21_3 (0.001894)\n",
      "181. feature V21_4 (0.001862)\n",
      "182. feature V22_2 (0.001858)\n",
      "183. feature V22_3 (0.001854)\n",
      "184. feature V22_4 (0.001840)\n",
      "185. feature V22_0 (0.001831)\n",
      "186. feature V22_5 (0.001814)\n",
      "187. feature V22_1 (0.001814)\n",
      "188. feature V22_6 (0.001751)\n",
      "189. feature V22_7 (0.001742)\n",
      "190. feature V23_2 (0.001718)\n",
      "191. feature V23_0 (0.001718)\n",
      "192. feature V23_3 (0.001703)\n",
      "193. feature V23_1 (0.001675)\n",
      "194. feature V23_4 (0.001673)\n",
      "195. feature V23_5 (0.001667)\n",
      "196. feature V23_6 (0.001649)\n",
      "197. feature V24_2 (0.001642)\n",
      "198. feature V24_3 (0.001616)\n",
      "199. feature V24_1 (0.001603)\n",
      "200. feature V24_0 (0.001602)\n",
      "201. feature V24_4 (0.001596)\n",
      "202. feature V24_5 (0.001572)\n",
      "203. feature V24_6 (0.001548)\n",
      "204. feature V25_0 (0.001537)\n",
      "205. feature V25_1 (0.001522)\n",
      "206. feature V25_2 (0.001522)\n",
      "207. feature V25_3 (0.001518)\n",
      "208. feature V25_4 (0.001467)\n",
      "209. feature V25_5 (0.001453)\n",
      "210. feature V25_6 (0.001444)\n",
      "211. feature V25_7 (0.001442)\n",
      "212. feature V26_2 (0.001441)\n",
      "213. feature V26_1 (0.001439)\n",
      "214. feature V26_0 (0.001429)\n",
      "215. feature V26_3 (0.001410)\n",
      "216. feature V26_4 (0.001398)\n",
      "217. feature V27_2 (0.001395)\n",
      "218. feature V27_3 (0.001391)\n",
      "219. feature V27_0 (0.001390)\n",
      "220. feature V27_1 (0.001387)\n",
      "221. feature V27_4 (0.001381)\n",
      "222. feature V27_5 (0.001380)\n",
      "223. feature V28_5 (0.001378)\n",
      "224. feature V28_4 (0.001337)\n",
      "225. feature V28_3 (0.001331)\n",
      "226. feature V28_2 (0.001317)\n",
      "227. feature V28_6 (0.001305)\n",
      "228. feature V28_0 (0.001304)\n",
      "229. feature V28_1 (0.001288)\n",
      "230. feature V28_7 (0.001287)\n",
      "231. feature V28_9 (0.001283)\n",
      "232. feature V29_0 (0.001262)\n",
      "233. feature V29_1 (0.001257)\n",
      "234. feature V29_2 (0.001212)\n",
      "235. feature V29_3 (0.001192)\n",
      "236. feature V29_4 (0.001191)\n",
      "237. feature V30_0 (0.001164)\n",
      "238. feature V30_9 (0.001150)\n",
      "239. feature V30_2 (0.001143)\n",
      "240. feature V30_3 (0.001141)\n",
      "241. feature V30_4 (0.001118)\n",
      "242. feature V30_8 (0.001115)\n",
      "243. feature V30_5 (0.001114)\n",
      "244. feature V30_1 (0.001112)\n",
      "245. feature V30_7 (0.001112)\n",
      "246. feature V31_9 (0.001105)\n",
      "247. feature V31_0 (0.001089)\n",
      "248. feature V31_7 (0.001075)\n",
      "249. feature V31_6 (0.001069)\n",
      "250. feature V31_5 (0.001067)\n",
      "251. feature V31_1 (0.001059)\n",
      "252. feature V31_4 (0.001054)\n",
      "253. feature V31_8 (0.001041)\n",
      "254. feature V31_2 (0.001037)\n",
      "255. feature V32_6 (0.001034)\n",
      "256. feature V32_7 (0.001024)\n",
      "257. feature V32_5 (0.001021)\n",
      "258. feature V32_9 (0.001006)\n",
      "259. feature V32_4 (0.001004)\n",
      "260. feature V32_8 (0.000979)\n",
      "261. feature V32_3 (0.000974)\n",
      "262. feature V33_0 (0.000972)\n",
      "263. feature V33_2 (0.000971)\n",
      "264. feature V33_1 (0.000943)\n",
      "265. feature V33_3 (0.000936)\n",
      "266. feature V33_4 (0.000932)\n",
      "267. feature V34_2 (0.000926)\n",
      "268. feature V34_0 (0.000906)\n",
      "269. feature V34_3 (0.000897)\n",
      "270. feature V34_1 (0.000864)\n",
      "271. feature V34_4 (0.000856)\n",
      "272. feature V34_5 (0.000854)\n",
      "273. feature V35_7 (0.000853)\n",
      "274. feature V35_5 (0.000853)\n",
      "275. feature V35_6 (0.000850)\n",
      "276. feature V35_9 (0.000828)\n",
      "277. feature V35_8 (0.000784)\n",
      "278. feature V35_4 (0.000773)\n",
      "279. feature V35_2 (0.000771)\n",
      "280. feature V35_3 (0.000748)\n",
      "281. feature V36_2 (0.000724)\n",
      "282. feature V36_4 (0.000721)\n",
      "283. feature V36_0 (0.000705)\n",
      "284. feature V36_3 (0.000679)\n",
      "285. feature V36_1 (0.000677)\n",
      "286. feature V36_5 (0.000668)\n",
      "287. feature V36_7 (0.000659)\n",
      "288. feature V36_6 (0.000639)\n",
      "289. feature V37_0 (0.000612)\n",
      "290. feature V37_2 (0.000603)\n",
      "291. feature V37_3 (0.000578)\n",
      "292. feature V37_1 (0.000571)\n",
      "293. feature V37_4 (0.000558)\n",
      "294. feature V37_5 (0.000527)\n",
      "295. feature V37_6 (0.000520)\n",
      "296. feature V38_4 (0.000502)\n",
      "297. feature V38_3 (0.000495)\n",
      "298. feature V38_5 (0.000481)\n",
      "299. feature V38_2 (0.000468)\n",
      "300. feature V38_0 (0.000433)\n",
      "301. feature V38_6 (0.000416)\n",
      "302. feature V38_1 (0.000400)\n",
      "303. feature V38_7 (0.000399)\n",
      "304. feature V39_3 (0.000387)\n",
      "305. feature V39_2 (0.000379)\n",
      "306. feature V39_4 (0.000379)\n",
      "307. feature V39_0 (0.000377)\n",
      "308. feature V39_1 (0.000357)\n",
      "309. feature V39_5 (0.000341)\n",
      "310. feature V39_6 (0.000337)\n",
      "311. feature V39_7 (0.000313)\n",
      "312. feature V40_0 (0.000302)\n",
      "313. feature V40_1 (0.000236)\n",
      "314. feature V40_2 (0.000214)\n",
      "315. feature V40_3 (0.000213)\n",
      "316. feature V40_4 (0.000205)\n",
      "317. feature V41_0 (0.000191)\n",
      "318. feature V41_1 (0.000162)\n",
      "319. feature V42_3 (0.000148)\n",
      "320. feature V42_4 (0.000113)\n",
      "321. feature V42_5 (0.000112)\n",
      "322. feature V42_2 (0.000070)\n",
      "323. feature V42_6 (0.000059)\n",
      "324. feature V42_7 (0.000000)\n",
      "325. feature V43_3 (0.000000)\n",
      "326. feature V43_6 (0.000000)\n",
      "327. feature V43_4 (0.000000)\n",
      "328. feature V43_5 (0.000000)\n",
      "329. feature V43_1 (0.000000)\n",
      "330. feature V43_7 (0.000000)\n",
      "331. feature V43_2 (0.000000)\n"
     ]
    },
    {
     "data": {
      "image/png": "[encoded data removed]",
      "text/plain": [
       "<Figure size 432x288 with 1 Axes>"
      ]
     },
     "metadata": {
      "needs_background": "light"
     },
     "output_type": "display_data"
    }
   ],
   "source": [
    "importances = rf_model.feature_importances_\n",
    "std = np.std([tree.feature_importances_ for tree in rf_model.estimators_],\n",
    "             axis=0)\n",
    "indices = np.argsort(importances)[::-1]\n",
    "\n",
    "# Print the feature ranking\n",
    "print(\"Feature ranking:\")\n",
    "\n",
    "for f in range(x_train.shape[1]):\n",
    "    print(\"%d. feature %s (%f)\" % (f + 1, list(x_train.columns)[f], importances[indices[f]]))\n",
    "\n",
    "# Plot the feature importances of the forest\n",
    "plt.figure()\n",
    "plt.title(\"Feature importances\")\n",
    "plt.bar(range(x_train.shape[1]), importances[indices],\n",
    "       color=\"r\", yerr=std[indices], align=\"center\")\n",
    "plt.xticks(range(x_train.shape[1]), list(x_train.columns))\n",
    "plt.xlim([-1, x_train.shape[1]])\n",
    "plt.show()"
   ]
  },
  {
   "cell_type": "markdown",
   "metadata": {},
   "source": [
    "Trying with XG Boost Algorithm"
   ]
  },
  {
   "cell_type": "code",
   "execution_count": 28,
   "metadata": {
    "scrolled": true
   },
   "outputs": [
    {
     "name": "stdout",
     "output_type": "stream",
     "text": [
      "Accuracy Score is : 0.9399141630901288\n",
      "Recall Score is : 0.0\n",
      "Precision Score is : 0.0\n",
      "Auc Score is :  0.5\n",
      "Fbeta 2 Score is : 0.4756733275412684\n",
      "Fbeta 2 Score is : [[1095    0]\n",
      " [  70    0]]\n"
     ]
    },
    {
     "name": "stderr",
     "output_type": "stream",
     "text": [
      "C:\\ProgramData\\Anaconda3\\lib\\site-packages\\sklearn\\metrics\\classification.py:1143: UndefinedMetricWarning: Precision is ill-defined and being set to 0.0 due to no predicted samples.\n",
      "  'precision', 'predicted', average, warn_for)\n",
      "C:\\ProgramData\\Anaconda3\\lib\\site-packages\\sklearn\\metrics\\classification.py:1145: UndefinedMetricWarning: F-score is ill-defined and being set to 0.0 in labels with no true samples.\n",
      "  'recall', 'true', average, warn_for)\n"
     ]
    }
   ],
   "source": [
    "XG_clf=XGBClassifier(objective='binary:logistic')\n",
    "XG_clf.fit(x_train,y_train)\n",
    "predicted = XG_clf.predict(x_test)\n",
    "\n",
    "print('Accuracy Score is :' , accuracy_score(y_test,predicted))\n",
    "print('Recall Score is :',recall_score(y_test,predicted))\n",
    "print('Precision Score is :',precision_score(y_test,predicted))\n",
    "print('Auc Score is : ', roc_auc_score(y_test,predicted))\n",
    "print('Fbeta 2 Score is :', fbeta_score(predicted,y_test, average='macro', beta=2))\n",
    "print('Fbeta 2 Score is :', confusion_matrix(y_test, predicted, labels=None, sample_weight=None))"
   ]
  },
  {
   "cell_type": "markdown",
   "metadata": {},
   "source": [
    "XG Boost with Parameter tunning"
   ]
  },
  {
   "cell_type": "code",
   "execution_count": 30,
   "metadata": {},
   "outputs": [],
   "source": [
    "XG_clf1=XGBClassifier(objective='binary:logistic')"
   ]
  },
  {
   "cell_type": "code",
   "execution_count": null,
   "metadata": {},
   "outputs": [],
   "source": [
    "xgb_params = {  \n",
    "                \"learning_rate\":[0.01,0.05,0.1,0.3,0.5],\n",
    "                \"gamma\":[i/10.0 for i in range(0,5)],\n",
    "                \"max_depth\": [2,3,4,5,6,7,8],\n",
    "                \"min_child_weight\":[1,2,5,10],\n",
    "                \"max_delta_step\":[0,1,2,5,10],\n",
    "                \"subsample\":[i/10.0 for i in range(5,10)],\n",
    "                \"colsample_bytree\":[i/10.0 for i in range(5,10)],\n",
    "                \"colsample_bylevel\":[i/10.0 for i in range(5,10)],\n",
    "                \"reg_lambda\":[1e-5, 1e-2, 0.1, 1, 100], \n",
    "                \"reg_alpha\":[1e-5, 1e-2, 0.1, 1, 100],\n",
    "                \"scale_pos_weight\":[1,2,3,4,5],\n",
    "                \"n_estimators\":[100,500,700,1000]\n",
    "             }\n",
    "\n",
    "n_iter=10\n",
    "\n",
    "random_search=RandomizedSearchCV(XG_clf1,n_jobs=-1,verbose=3,cv=5,n_iter=n_iter,scoring='roc_auc',\n",
    "                                 param_distributions=xgb_params)\n",
    "\n",
    "random_search.fit(x_train,y_train)"
   ]
  },
  {
   "cell_type": "code",
   "execution_count": null,
   "metadata": {},
   "outputs": [],
   "source": [
    "def report(results, n_top=3):\n",
    "    for i in range(1, n_top + 1):\n",
    "        candidates = np.flatnonzero(results['rank_test_score'] == i)\n",
    "        for candidate in candidates:\n",
    "            print(\"Model with rank: {0}\".format(i))\n",
    "            print(\"Mean validation score: {0:.3f} (std: {1:.5f})\".format(\n",
    "                  results['mean_test_score'][candidate],\n",
    "                  results['std_test_score'][candidate]))\n",
    "            print(\"Parameters: {0}\".format(results['params'][candidate]))\n",
    "            print(\"\")\n",
    "\n",
    "report(random_search.cv_results_,5)"
   ]
  },
  {
   "cell_type": "markdown",
   "metadata": {},
   "source": [
    "random_search.best_estimator_"
   ]
  },
  {
   "cell_type": "code",
   "execution_count": 29,
   "metadata": {},
   "outputs": [],
   "source": [
    "#after best parameter is learnt\n",
    "xgb_best=XGBClassifier(base_score=0.5, booster='gbtree', colsample_bylevel=0.9,\n",
    "       colsample_bynode=1, colsample_bytree=0.7, gamma=0.1,\n",
    "       learning_rate=0.01, max_delta_step=1, max_depth=5,\n",
    "       min_child_weight=2, missing=None, n_estimators=1000, n_jobs=1,\n",
    "       nthread=None, objective='binary:logistic', random_state=0,\n",
    "       reg_alpha=0.1, reg_lambda=100, scale_pos_weight=5, seed=None,\n",
    "       silent=None, subsample=0.5, verbosity=1)"
   ]
  },
  {
   "cell_type": "code",
   "execution_count": 30,
   "metadata": {},
   "outputs": [
    {
     "data": {
      "text/plain": [
       "XGBClassifier(base_score=0.5, booster='gbtree', colsample_bylevel=0.9,\n",
       "       colsample_bynode=1, colsample_bytree=0.7, gamma=0.1,\n",
       "       learning_rate=0.01, max_delta_step=1, max_depth=5,\n",
       "       min_child_weight=2, missing=None, n_estimators=1000, n_jobs=1,\n",
       "       nthread=None, objective='binary:logistic', random_state=0,\n",
       "       reg_alpha=0.1, reg_lambda=100, scale_pos_weight=5, seed=None,\n",
       "       silent=None, subsample=0.5, verbosity=1)"
      ]
     },
     "execution_count": 30,
     "metadata": {},
     "output_type": "execute_result"
    }
   ],
   "source": [
    "xgb_best.fit(x_train,y_train)"
   ]
  },
  {
   "cell_type": "code",
   "execution_count": 31,
   "metadata": {},
   "outputs": [
    {
     "name": "stdout",
     "output_type": "stream",
     "text": [
      "Accuracy Score is : 0.9175965665236051\n",
      "Recall Score is : 0.2\n",
      "Precision Score is : 0.25925925925925924\n",
      "Auc Score is :  0.5817351598173516\n",
      "Fbeta 2 Score is : 0.5985466059486642\n",
      "Confusion Matrix : [[1055   40]\n",
      " [  56   14]]\n"
     ]
    }
   ],
   "source": [
    "predicted = xgb_best.predict(x_test)\n",
    "\n",
    "print('Accuracy Score is :' , accuracy_score(y_test,predicted))\n",
    "print('Recall Score is :',recall_score(y_test,predicted))\n",
    "print('Precision Score is :',precision_score(y_test,predicted))\n",
    "print('Auc Score is : ', roc_auc_score(y_test,predicted))\n",
    "print('Fbeta 2 Score is :', fbeta_score(predicted,y_test, average='macro', beta=2))\n",
    "print('Confusion Matrix :', confusion_matrix(y_test, predicted, labels=None, sample_weight=None))"
   ]
  },
  {
   "cell_type": "code",
   "execution_count": null,
   "metadata": {},
   "outputs": [],
   "source": []
  },
  {
   "cell_type": "markdown",
   "metadata": {},
   "source": [
    "Finding out the correct probabilty cutoff to predict hard classess"
   ]
  },
  {
   "cell_type": "code",
   "execution_count": 52,
   "metadata": {},
   "outputs": [
    {
     "data": {
      "text/plain": [
       "array([0.01, 0.02, 0.03, 0.04, 0.05, 0.06, 0.07, 0.08, 0.09, 0.1 , 0.11,\n",
       "       0.12, 0.13, 0.14, 0.15, 0.16, 0.17, 0.18, 0.19, 0.2 , 0.21, 0.22,\n",
       "       0.23, 0.24, 0.25, 0.26, 0.27, 0.28, 0.29, 0.3 , 0.31, 0.32, 0.33,\n",
       "       0.34, 0.35, 0.36, 0.37, 0.38, 0.39, 0.4 , 0.41, 0.42, 0.43, 0.44,\n",
       "       0.45, 0.46, 0.47, 0.48, 0.49, 0.5 , 0.51, 0.52, 0.53, 0.54, 0.55,\n",
       "       0.56, 0.57, 0.58, 0.59, 0.6 , 0.61, 0.62, 0.63, 0.64, 0.65, 0.66,\n",
       "       0.67, 0.68, 0.69, 0.7 , 0.71, 0.72, 0.73, 0.74, 0.75, 0.76, 0.77,\n",
       "       0.78, 0.79, 0.8 , 0.81, 0.82, 0.83, 0.84, 0.85, 0.86, 0.87, 0.88,\n",
       "       0.89, 0.9 , 0.91, 0.92, 0.93, 0.94, 0.95, 0.96, 0.97, 0.98, 0.99])"
      ]
     },
     "execution_count": 52,
     "metadata": {},
     "output_type": "execute_result"
    }
   ],
   "source": [
    "cutoffs=np.linspace(0.01,0.99,99)\n",
    "cutoffs"
   ]
  },
  {
   "cell_type": "code",
   "execution_count": 53,
   "metadata": {},
   "outputs": [
    {
     "name": "stdout",
     "output_type": "stream",
     "text": [
      "[0. 1.]\n"
     ]
    }
   ],
   "source": [
    "train_score=xgb_best.predict_proba(x_train)[:,1] # the predicted response variable values\n",
    "real=y_train # the actual response variable values\n",
    "print(xgb_best.classes_) # In order to find the probability of which column is for outcome 1 and which for outcome 0"
   ]
  },
  {
   "cell_type": "code",
   "execution_count": 54,
   "metadata": {},
   "outputs": [],
   "source": [
    "KS_all=[]\n",
    "for cutoff in cutoffs:\n",
    "    predicted=(train_score>cutoff).astype(int)\n",
    "    \n",
    "    TP=((predicted==1) & (real==1)).sum()\n",
    "    TN=((predicted==0) & (real==0)).sum()\n",
    "    FP=((predicted==1) & (real==0)).sum()\n",
    "    FN=((predicted==0) & (real==1)).sum()\n",
    "    \n",
    "    P=TP+FN\n",
    "    N=TN+FP\n",
    "    KS=(TP/P)-(FP/N)\n",
    "    KS_all.append(KS)\n",
    "    \n",
    "# try out what cutoffs you get when you use F_beta scores with different values of betas [0.5 , 5]\n",
    "# beta < 1 : you will get cutoff , which is high ( favours precision)\n",
    "# beta > 1 : you will get cutoff , which is low (favours precision )"
   ]
  },
  {
   "cell_type": "code",
   "execution_count": 55,
   "metadata": {},
   "outputs": [
    {
     "data": {
      "text/plain": [
       "[(0.01, 0.0),\n",
       " (0.02, 0.0),\n",
       " (0.03, 0.0013701758392327124),\n",
       " (0.04, 0.019410824389129888),\n",
       " (0.05, 0.06828042932176293),\n",
       " (0.060000000000000005, 0.1356474080840374),\n",
       " (0.06999999999999999, 0.2068965517241379),\n",
       " (0.08, 0.27083809088833066),\n",
       " (0.09, 0.3274720255766157),\n",
       " (0.09999999999999999, 0.3709742870239091),\n",
       " (0.11, 0.4116795168569415),\n",
       " (0.12, 0.44918766973176427),\n",
       " (0.13, 0.4832703830085053),\n",
       " (0.14, 0.5142126992628323),\n",
       " (0.15000000000000002, 0.53876086160074),\n",
       " (0.16, 0.5614254428838752),\n",
       " (0.17, 0.5816913950000082),\n",
       " (0.18000000000000002, 0.6065829227460688),\n",
       " (0.19, 0.6222816220647598),\n",
       " (0.2, 0.6298159462838498),\n",
       " (0.21000000000000002, 0.6490550879689032),\n",
       " (0.22, 0.6596731292746119),\n",
       " (0.23, 0.6597281663137177),\n",
       " (0.24000000000000002, 0.6577279395939745),\n",
       " (0.25, 0.6557277128742313),\n",
       " (0.26, 0.6600082801993162),\n",
       " (0.27, 0.6397373993931139),\n",
       " (0.28, 0.638537263361268),\n",
       " (0.29000000000000004, 0.6351101808664966),\n",
       " (0.3, 0.6386489803361695),\n",
       " (0.31, 0.6331666340825489),\n",
       " (0.32, 0.6166645582825815),\n",
       " (0.33, 0.6120956625884495),\n",
       " (0.34, 0.6050147778557241),\n",
       " (0.35000000000000003, 0.5973054851391779),\n",
       " (0.36000000000000004, 0.5877126113678593),\n",
       " (0.37, 0.5624177524844706),\n",
       " (0.38, 0.5544234171922567),\n",
       " (0.39, 0.5441454555013217),\n",
       " (0.4, 0.5300420088683563),\n",
       " (0.41000000000000003, 0.506974096447893),\n",
       " (0.42000000000000004, 0.49401246301428825),\n",
       " (0.43, 0.4763118940791646),\n",
       " (0.44, 0.45278725637895717),\n",
       " (0.45, 0.43891217238586383),\n",
       " (0.46, 0.41401735884642366),\n",
       " (0.47000000000000003, 0.3990004616539698),\n",
       " (0.48000000000000004, 0.38512537766087657),\n",
       " (0.49, 0.37484741596994153),\n",
       " (0.5, 0.35646175911520156),\n",
       " (0.51, 0.3378477396205894),\n",
       " (0.52, 0.33071017495206845),\n",
       " (0.53, 0.30667213203632115),\n",
       " (0.54, 0.2905134216445067),\n",
       " (0.55, 0.27167103951002247),\n",
       " (0.56, 0.25528396647833596),\n",
       " (0.5700000000000001, 0.23621322170397963),\n",
       " (0.5800000000000001, 0.21982614867229303),\n",
       " (0.59, 0.21582898102618614),\n",
       " (0.6, 0.19675823625182978),\n",
       " (0.61, 0.18733704518458766),\n",
       " (0.62, 0.16780957513048705),\n",
       " (0.63, 0.1550196244009588),\n",
       " (0.64, 0.14154458575181417),\n",
       " (0.65, 0.13526379170698608),\n",
       " (0.66, 0.10425986682679432),\n",
       " (0.67, 0.08673098059574719),\n",
       " (0.68, 0.07999346127117489),\n",
       " (0.6900000000000001, 0.06246457504012775),\n",
       " (0.7000000000000001, 0.048076085831494655),\n",
       " (0.7100000000000001, 0.04516405144895273),\n",
       " (0.72, 0.024266405555619444),\n",
       " (0.73, 0.020897645893333292),\n",
       " (0.74, 0.017300523591175017),\n",
       " (0.75, 0.017528886231047133),\n",
       " (0.76, 0.010334641626730586),\n",
       " (0.77, 0.0067375193245723134),\n",
       " (0.78, 0.0067375193245723134),\n",
       " (0.79, 0.0067375193245723134),\n",
       " (0.8, 0.00696588196444443),\n",
       " (0.81, 0.0),\n",
       " (0.8200000000000001, 0.0),\n",
       " (0.8300000000000001, 0.0),\n",
       " (0.8400000000000001, 0.0),\n",
       " (0.85, 0.0),\n",
       " (0.86, 0.0),\n",
       " (0.87, 0.0),\n",
       " (0.88, 0.0),\n",
       " (0.89, 0.0),\n",
       " (0.9, 0.0),\n",
       " (0.91, 0.0),\n",
       " (0.92, 0.0),\n",
       " (0.93, 0.0),\n",
       " (0.9400000000000001, 0.0),\n",
       " (0.9500000000000001, 0.0),\n",
       " (0.9600000000000001, 0.0),\n",
       " (0.97, 0.0),\n",
       " (0.98, 0.0),\n",
       " (0.99, 0.0)]"
      ]
     },
     "execution_count": 55,
     "metadata": {},
     "output_type": "execute_result"
    }
   ],
   "source": [
    "list(zip(cutoffs,KS_all))"
   ]
  },
  {
   "cell_type": "code",
   "execution_count": 56,
   "metadata": {},
   "outputs": [
    {
     "data": {
      "text/plain": [
       "0.26"
      ]
     },
     "execution_count": 56,
     "metadata": {},
     "output_type": "execute_result"
    }
   ],
   "source": [
    "mycutoff=cutoffs[KS_all==max(KS_all)][0]\n",
    "mycutoff # gives the cutoff value where KS is maximum"
   ]
  },
  {
   "cell_type": "code",
   "execution_count": 57,
   "metadata": {},
   "outputs": [
    {
     "data": {
      "text/plain": [
       "array([0.09644467, 0.6104807 , 0.3723423 , ..., 0.32952014, 0.3532237 ,\n",
       "       0.20372385], dtype=float32)"
      ]
     },
     "execution_count": 57,
     "metadata": {},
     "output_type": "execute_result"
    }
   ],
   "source": [
    "test_score=xgb_best.predict_proba(carvan_test)[:,1]\n",
    "test_score"
   ]
  },
  {
   "cell_type": "code",
   "execution_count": 58,
   "metadata": {},
   "outputs": [
    {
     "name": "stdout",
     "output_type": "stream",
     "text": [
      "[0 1 1 ... 1 1 0]\n"
     ]
    }
   ],
   "source": [
    "test_classes=(test_score>mycutoff).astype(int)\n",
    "print(test_classes)"
   ]
  },
  {
   "cell_type": "code",
   "execution_count": 59,
   "metadata": {},
   "outputs": [
    {
     "data": {
      "text/plain": [
       "884"
      ]
     },
     "execution_count": 59,
     "metadata": {},
     "output_type": "execute_result"
    }
   ],
   "source": [
    "sum(test_classes)"
   ]
  },
  {
   "cell_type": "code",
   "execution_count": 60,
   "metadata": {},
   "outputs": [],
   "source": [
    "pd.DataFrame(test_classes).to_csv(\"Project2_Part2_0.2.csv\",index=False)\n",
    "# Please give the file a proper name before submission"
   ]
  },
  {
   "cell_type": "code",
   "execution_count": null,
   "metadata": {},
   "outputs": [],
   "source": []
  }
 ],
 "metadata": {
  "kernelspec": {
   "display_name": "Python 3",
   "language": "python",
   "name": "python3"
  },
  "language_info": {
   "codemirror_mode": {
    "name": "ipython",
    "version": 3
   },
   "file_extension": ".py",
   "mimetype": "text/x-python",
   "name": "python",
   "nbconvert_exporter": "python",
   "pygments_lexer": "ipython3",
   "version": "3.7.3"
  }
 },
 "nbformat": 4,
 "nbformat_minor": 2
}
